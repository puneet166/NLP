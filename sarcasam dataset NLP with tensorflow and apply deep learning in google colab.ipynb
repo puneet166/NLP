{
  "nbformat": 4,
  "nbformat_minor": 0,
  "metadata": {
    "colab": {
      "name": "Untitled2.ipynb",
      "provenance": [],
      "collapsed_sections": []
    },
    "kernelspec": {
      "name": "python3",
      "display_name": "Python 3"
    }
  },
  "cells": [
    {
      "cell_type": "code",
      "metadata": {
        "id": "QpG_KDdfBj1P",
        "colab_type": "code",
        "colab": {}
      },
      "source": [
        "# all are same as IDMB movie rating.\n",
        "import json\n",
        "import tensorflow as tf\n",
        "\n",
        "from tensorflow.keras.preprocessing.text import Tokenizer\n",
        "from tensorflow.keras.preprocessing.sequence import pad_sequences"
      ],
      "execution_count": null,
      "outputs": []
    },
    {
      "cell_type": "code",
      "metadata": {
        "id": "mX7WxyJSByY2",
        "colab_type": "code",
        "colab": {}
      },
      "source": [
        "# its parameters for tokenize aur embedding layer\n",
        "vocab_size = 10000\n",
        "embedding_dim = 16\n",
        "max_length = 100\n",
        "trunc_type='post'\n",
        "padding_type='post'\n",
        "oov_tok = \"<OOV>\"\n",
        "# its important we select only 20000 dataset for trainig rest for testing..\n",
        "training_size = 20000\n"
      ],
      "execution_count": null,
      "outputs": []
    },
    {
      "cell_type": "code",
      "metadata": {
        "id": "sEQHEvTQB25E",
        "colab_type": "code",
        "colab": {
          "base_uri": "https://localhost:8080/",
          "height": 204
        },
        "outputId": "f0234838-c367-4a24-d17d-e4e1f5dac531"
      },
      "source": [
        "!wget --no-check-certificate \\\n",
        "    https://storage.googleapis.com/laurencemoroney-blog.appspot.com/sarcasm.json \\\n",
        "    -O /tmp/sarcasm.json\n",
        "    # here dataset is loaded in this notebook and download..\n"
      ],
      "execution_count": null,
      "outputs": [
        {
          "output_type": "stream",
          "text": [
            "--2020-06-21 08:38:49--  https://storage.googleapis.com/laurencemoroney-blog.appspot.com/sarcasm.json\n",
            "Resolving storage.googleapis.com (storage.googleapis.com)... 74.125.142.128, 2607:f8b0:400e:c03::80\n",
            "Connecting to storage.googleapis.com (storage.googleapis.com)|74.125.142.128|:443... connected.\n",
            "HTTP request sent, awaiting response... 200 OK\n",
            "Length: 5643545 (5.4M) [application/json]\n",
            "Saving to: ‘/tmp/sarcasm.json’\n",
            "\n",
            "\r/tmp/sarcasm.json     0%[                    ]       0  --.-KB/s               \r/tmp/sarcasm.json   100%[===================>]   5.38M  --.-KB/s    in 0.07s   \n",
            "\n",
            "2020-06-21 08:38:49 (76.0 MB/s) - ‘/tmp/sarcasm.json’ saved [5643545/5643545]\n",
            "\n"
          ],
          "name": "stdout"
        }
      ]
    },
    {
      "cell_type": "code",
      "metadata": {
        "id": "Mgif5Ji6B69U",
        "colab_type": "code",
        "colab": {}
      },
      "source": [
        "# its preprocessing as same as IMDB rating...\n",
        "with open(\"/tmp/sarcasm.json\", 'r') as f:\n",
        "    datastore = json.load(f)\n",
        "\n",
        "sentences = []\n",
        "labels = []\n",
        "\n",
        "for item in datastore:\n",
        "    sentences.append(item['headline'])\n",
        "    labels.append(item['is_sarcastic'])"
      ],
      "execution_count": null,
      "outputs": []
    },
    {
      "cell_type": "code",
      "metadata": {
        "id": "R9xUPw6BB9ZH",
        "colab_type": "code",
        "colab": {}
      },
      "source": [
        "# here spilte the dataset into training or testing.\n",
        "training_sentences = sentences[0:training_size] # 0 to 20000 senetences assign into training_sentences .\n",
        "testing_sentences = sentences[training_size:] # here from end of training sentence to end of the list are assign into testing_sentences\n",
        "training_labels = labels[0:training_size]# its same like above\n",
        "testing_labels = labels[training_size:] # its same like above"
      ],
      "execution_count": null,
      "outputs": []
    },
    {
      "cell_type": "code",
      "metadata": {
        "id": "M2SycCJEB_Mm",
        "colab_type": "code",
        "colab": {}
      },
      "source": [
        "# text convert into vector using tokenization , its same like IMDB rating .\n",
        "tokenizer = Tokenizer(num_words=vocab_size, oov_token=oov_tok)\n",
        "tokenizer.fit_on_texts(training_sentences)\n",
        "\n",
        "word_index = tokenizer.word_index\n",
        "\n",
        "training_sequences = tokenizer.texts_to_sequences(training_sentences)\n",
        "training_padded = pad_sequences(training_sequences, maxlen=max_length, padding=padding_type, truncating=trunc_type)\n",
        "\n",
        "testing_sequences = tokenizer.texts_to_sequences(testing_sentences)\n",
        "testing_padded = pad_sequences(testing_sequences, maxlen=max_length, padding=padding_type, truncating=trunc_type)\n"
      ],
      "execution_count": null,
      "outputs": []
    },
    {
      "cell_type": "code",
      "metadata": {
        "id": "ialovXPECCIa",
        "colab_type": "code",
        "colab": {}
      },
      "source": [
        "# here apply the sequential model using embedding layer, learn embedding layer go to copy.\n",
        "model = tf.keras.Sequential([\n",
        "    tf.keras.layers.Embedding(vocab_size, embedding_dim, input_length=max_length),\n",
        "    tf.keras.layers.GlobalAveragePooling1D(),\n",
        "    tf.keras.layers.Dense(24, activation='relu'),\n",
        "    tf.keras.layers.Dense(1, activation='sigmoid')\n",
        "])\n",
        "model.compile(loss='binary_crossentropy',optimizer='adam',metrics=['accuracy'])"
      ],
      "execution_count": null,
      "outputs": []
    },
    {
      "cell_type": "code",
      "metadata": {
        "id": "sCEhMEJ9CFFC",
        "colab_type": "code",
        "colab": {
          "base_uri": "https://localhost:8080/",
          "height": 289
        },
        "outputId": "742a94d8-5647-42b1-c2ff-1136339cee65"
      },
      "source": [
        "model.summary()\n"
      ],
      "execution_count": null,
      "outputs": [
        {
          "output_type": "stream",
          "text": [
            "Model: \"sequential\"\n",
            "_________________________________________________________________\n",
            "Layer (type)                 Output Shape              Param #   \n",
            "=================================================================\n",
            "embedding (Embedding)        (None, 100, 16)           160000    \n",
            "_________________________________________________________________\n",
            "global_average_pooling1d (Gl (None, 16)                0         \n",
            "_________________________________________________________________\n",
            "dense (Dense)                (None, 24)                408       \n",
            "_________________________________________________________________\n",
            "dense_1 (Dense)              (None, 1)                 25        \n",
            "=================================================================\n",
            "Total params: 160,433\n",
            "Trainable params: 160,433\n",
            "Non-trainable params: 0\n",
            "_________________________________________________________________\n"
          ],
          "name": "stdout"
        }
      ]
    },
    {
      "cell_type": "code",
      "metadata": {
        "id": "ue9wWgzpCZuo",
        "colab_type": "code",
        "colab": {}
      },
      "source": [
        "# Need this block to get it to work with TensorFlow 2.x\n",
        "import numpy as np\n",
        "training_padded = np.array(training_padded)\n",
        "training_labels = np.array(training_labels)\n",
        "testing_padded = np.array(testing_padded)\n",
        "testing_labels = np.array(testing_labels)"
      ],
      "execution_count": null,
      "outputs": []
    },
    {
      "cell_type": "code",
      "metadata": {
        "id": "gO_MJz7wCHWW",
        "colab_type": "code",
        "colab": {
          "base_uri": "https://localhost:8080/",
          "height": 1000
        },
        "outputId": "4dfa9a25-93f1-4314-ba6b-00831a2a81d5"
      },
      "source": [
        "num_epochs = 30\n",
        "history = model.fit(training_padded, training_labels, epochs=num_epochs, validation_data=(testing_padded, testing_labels), verbose=2)"
      ],
      "execution_count": null,
      "outputs": [
        {
          "output_type": "stream",
          "text": [
            "Epoch 1/30\n",
            "625/625 - 2s - loss: 0.6679 - accuracy: 0.5773 - val_loss: 0.5960 - val_accuracy: 0.7180\n",
            "Epoch 2/30\n",
            "625/625 - 2s - loss: 0.4536 - accuracy: 0.8188 - val_loss: 0.3977 - val_accuracy: 0.8369\n",
            "Epoch 3/30\n",
            "625/625 - 2s - loss: 0.3236 - accuracy: 0.8727 - val_loss: 0.3604 - val_accuracy: 0.8493\n",
            "Epoch 4/30\n",
            "625/625 - 2s - loss: 0.2693 - accuracy: 0.8959 - val_loss: 0.3551 - val_accuracy: 0.8471\n",
            "Epoch 5/30\n",
            "625/625 - 2s - loss: 0.2315 - accuracy: 0.9112 - val_loss: 0.3432 - val_accuracy: 0.8559\n",
            "Epoch 6/30\n",
            "625/625 - 2s - loss: 0.2035 - accuracy: 0.9230 - val_loss: 0.3492 - val_accuracy: 0.8556\n",
            "Epoch 7/30\n",
            "625/625 - 2s - loss: 0.1817 - accuracy: 0.9328 - val_loss: 0.3626 - val_accuracy: 0.8518\n",
            "Epoch 8/30\n",
            "625/625 - 2s - loss: 0.1635 - accuracy: 0.9400 - val_loss: 0.3710 - val_accuracy: 0.8541\n",
            "Epoch 9/30\n",
            "625/625 - 2s - loss: 0.1471 - accuracy: 0.9453 - val_loss: 0.4006 - val_accuracy: 0.8469\n",
            "Epoch 10/30\n",
            "625/625 - 2s - loss: 0.1321 - accuracy: 0.9534 - val_loss: 0.4185 - val_accuracy: 0.8453\n",
            "Epoch 11/30\n",
            "625/625 - 2s - loss: 0.1212 - accuracy: 0.9572 - val_loss: 0.4311 - val_accuracy: 0.8466\n",
            "Epoch 12/30\n",
            "625/625 - 2s - loss: 0.1115 - accuracy: 0.9618 - val_loss: 0.4484 - val_accuracy: 0.8468\n",
            "Epoch 13/30\n",
            "625/625 - 2s - loss: 0.1019 - accuracy: 0.9644 - val_loss: 0.5367 - val_accuracy: 0.8265\n",
            "Epoch 14/30\n",
            "625/625 - 2s - loss: 0.0920 - accuracy: 0.9693 - val_loss: 0.5293 - val_accuracy: 0.8354\n",
            "Epoch 15/30\n",
            "625/625 - 2s - loss: 0.0845 - accuracy: 0.9711 - val_loss: 0.5298 - val_accuracy: 0.8395\n",
            "Epoch 16/30\n",
            "625/625 - 2s - loss: 0.0796 - accuracy: 0.9746 - val_loss: 0.5606 - val_accuracy: 0.8383\n",
            "Epoch 17/30\n",
            "625/625 - 2s - loss: 0.0713 - accuracy: 0.9779 - val_loss: 0.5908 - val_accuracy: 0.8341\n",
            "Epoch 18/30\n",
            "625/625 - 2s - loss: 0.0672 - accuracy: 0.9792 - val_loss: 0.6169 - val_accuracy: 0.8331\n",
            "Epoch 19/30\n",
            "625/625 - 2s - loss: 0.0604 - accuracy: 0.9817 - val_loss: 0.6586 - val_accuracy: 0.8305\n",
            "Epoch 20/30\n",
            "625/625 - 2s - loss: 0.0549 - accuracy: 0.9837 - val_loss: 0.6905 - val_accuracy: 0.8295\n",
            "Epoch 21/30\n",
            "625/625 - 2s - loss: 0.0504 - accuracy: 0.9847 - val_loss: 0.7167 - val_accuracy: 0.8272\n",
            "Epoch 22/30\n",
            "625/625 - 2s - loss: 0.0478 - accuracy: 0.9862 - val_loss: 0.7543 - val_accuracy: 0.8265\n",
            "Epoch 23/30\n",
            "625/625 - 2s - loss: 0.0444 - accuracy: 0.9864 - val_loss: 0.8261 - val_accuracy: 0.8198\n",
            "Epoch 24/30\n",
            "625/625 - 2s - loss: 0.0405 - accuracy: 0.9882 - val_loss: 0.8305 - val_accuracy: 0.8229\n",
            "Epoch 25/30\n",
            "625/625 - 2s - loss: 0.0369 - accuracy: 0.9894 - val_loss: 0.8977 - val_accuracy: 0.8182\n",
            "Epoch 26/30\n",
            "625/625 - 2s - loss: 0.0360 - accuracy: 0.9897 - val_loss: 0.9735 - val_accuracy: 0.8177\n",
            "Epoch 27/30\n",
            "625/625 - 2s - loss: 0.0316 - accuracy: 0.9911 - val_loss: 0.9359 - val_accuracy: 0.8182\n",
            "Epoch 28/30\n",
            "625/625 - 2s - loss: 0.0277 - accuracy: 0.9931 - val_loss: 0.9932 - val_accuracy: 0.8168\n",
            "Epoch 29/30\n",
            "625/625 - 2s - loss: 0.0268 - accuracy: 0.9931 - val_loss: 1.0368 - val_accuracy: 0.8162\n",
            "Epoch 30/30\n",
            "625/625 - 2s - loss: 0.0243 - accuracy: 0.9935 - val_loss: 1.0546 - val_accuracy: 0.8138\n"
          ],
          "name": "stdout"
        }
      ]
    },
    {
      "cell_type": "code",
      "metadata": {
        "id": "zHfpmNueCJgL",
        "colab_type": "code",
        "colab": {
          "base_uri": "https://localhost:8080/",
          "height": 541
        },
        "outputId": "e317b16a-9b5c-4918-a30f-bccdf6af109e"
      },
      "source": [
        "# here we saw loss function or accuracy function.\n",
        "import matplotlib.pyplot as plt\n",
        "\n",
        "\n",
        "def plot_graphs(history, string):\n",
        "  plt.plot(history.history[string])\n",
        "  plt.plot(history.history['val_'+string])\n",
        "  plt.xlabel(\"Epochs\")\n",
        "  plt.ylabel(string)\n",
        "  plt.legend([string, 'val_'+string])\n",
        "  plt.show()\n",
        "  \n",
        "plot_graphs(history, \"accuracy\")\n",
        "plot_graphs(history, \"loss\")"
      ],
      "execution_count": null,
      "outputs": [
        {
          "output_type": "display_data",
          "data": {
            "image/png": "[encoded data removed]",
            "text/plain": [
              "<Figure size 432x288 with 1 Axes>"
            ]
          },
          "metadata": {
            "tags": [],
            "needs_background": "light"
          }
        },
        {
          "output_type": "display_data",
          "data": {
            "image/png": "[encoded data removed]",
            "text/plain": [
              "<Figure size 432x288 with 1 Axes>"
            ]
          },
          "metadata": {
            "tags": [],
            "needs_background": "light"
          }
        }
      ]
    },
    {
      "cell_type": "code",
      "metadata": {
        "id": "RKkeOS9PCL5t",
        "colab_type": "code",
        "colab": {}
      },
      "source": [
        ""
      ],
      "execution_count": null,
      "outputs": []
    }
  ]
}