{
 "cells": [
  {
   "cell_type": "code",
   "execution_count": 129,
   "metadata": {},
   "outputs": [],
   "source": [
    "import nltk # import nltk liberary for NLP[all type of operations perform by nltk]"
   ]
  },
  {
   "cell_type": "code",
   "execution_count": 130,
   "metadata": {},
   "outputs": [],
   "source": [
    "#its unstructure data ,so now do some preprocessing and to make structure data then apply some ML algorithms\n",
    "#  here preprocessing  is called NLP , preprocessing will done by NLP \n",
    "paragraph =  \"\"\"I have three visions for India. In 3000 years of our history, people from all over \n",
    "               the world have come and invaded us, captured our lands, conquered our minds. \n",
    "               From Alexander onwards, the Greeks, the Turks, the Moguls, the Portuguese, the British,\n",
    "               the French, the Dutch, all of them came and looted us, took over what was ours. \n",
    "               Yet we have not done this to any other nation. We have not conquered anyone. \n",
    "               We have not grabbed their land, their culture, \n",
    "               their history and tried to enforce our way of life on them. \n",
    "               Why? Because we respect the freedom of others.That is why my \n",
    "               first vision is that of freedom. I believe that India got its first vision of \n",
    "               this in 1857, when we started the War of Independence. It is this freedom that\n",
    "               we must protect and nurture and build on. If we are not free, no one will respect us.\n",
    "               My second vision for India’s development. For fifty years we have been a developing nation.\n",
    "               It is time we see ourselves as a developed nation. We are among the top 5 nations of the world\n",
    "               in terms of GDP. We have a 10 percent growth rate in most areas. Our poverty levels are falling.\n",
    "               Our achievements are being globally recognised today. Yet we lack the self-confidence to\n",
    "               see ourselves as a developed nation, self-reliant and self-assured. Isn’t this incorrect?\n",
    "               I have a third vision. India must stand up to the world. Because I believe that unless India \n",
    "               stands up to the world, no one will respect us. Only strength respects strength. We must be \n",
    "               strong not only as a military power but also as an economic power. Both must go hand-in-hand. \n",
    "               My good fortune was to have worked with three great minds. Dr. Vikram Sarabhai of the Dept. of \n",
    "               space, Professor Satish Dhawan, who succeeded him and Dr. Brahm Prakash, father of nuclear material.\n",
    "               I was lucky to have worked with all three of them closely and consider this the great opportunity of my life. \n",
    "               I see four milestones in my career\"\"\"\n",
    "               \n",
    "               "
   ]
  },
  {
   "cell_type": "markdown",
   "metadata": {},
   "source": [
    "# Cleaning the texts\n"
   ]
  },
  {
   "cell_type": "code",
   "execution_count": 131,
   "metadata": {},
   "outputs": [],
   "source": [
    "import re # this liberary for expressions\n",
    "from nltk.corpus import stopwords # its for stopword\n",
    "from nltk.stem.porter import PorterStemmer #its for stemming\n",
    "from nltk.stem import WordNetLemmatizer # its for lemmatizations\n"
   ]
  },
  {
   "cell_type": "code",
   "execution_count": 132,
   "metadata": {},
   "outputs": [],
   "source": [
    "ps = PorterStemmer() #create object of stemming or initilize\n",
    "wordnet=WordNetLemmatizer() #create object of Lemmatization or initilize\n",
    "sentences = nltk.sent_tokenize(paragraph) # paragraph convert into sentences\n",
    "corpus = [] # define list ,its use for insert words after perform operations"
   ]
  },
  {
   "cell_type": "code",
   "execution_count": 133,
   "metadata": {},
   "outputs": [],
   "source": [
    "\n",
    "for i in range(len(sentences)): # for loop start 0 to lenght of sentences\n",
    "    \n",
    "    review = re.sub('[^a-zA-Z]', ' ', sentences[i]) #this statement for remove , ' \" or any special characters from sentences /\n",
    "    # its sub function of re liberary take 3 parameter 1-jisko chordna h here a-z or A-Z mean small ,capital letter ko chordkr baaki sb ko /\n",
    "    \n",
    "    # second parameter sai replace kr daiga, 2- by replace here replace by space, 3- which? kis sentence m krna h ya kis paragraph m krna h /\n",
    "    # if we dont consider re.sub('[^a-zA-Z]', ' ', sentences[i]) , so we dont need to implement splite or lower /\n",
    "    # we can perform directly operations like lemmatizations , stemming.if we perform directly special charachters will not remove  from paragraph /\n",
    "    # for cleaning text we use these three operations ,1-re.sub('[^a-zA-Z]', ' ', sentences[i]), 2- spilte 3- lower \\\n",
    "    # if we dont clean text how can convert text into number.\n",
    "    \n",
    "    review = review.lower() # its become all sentences or words in lower case\n",
    "    review = review.split() #spilt all sentences into list\n",
    "    review = [ps.stem(word) for word in review if not word in set(stopwords.words('english'))] # here perform stemming,lemmatizations\n",
    "    # here you can use lemmatizations also\n",
    "    review = ' '.join(review) # its for back to previous way, becoz we spilte data , for this statement spilte data come on in same way before split \n",
    "    corpus.append(review) # after perform operations sentences convert into list\n",
    "    \n",
    "    #if you dont understand , then check excute single lines\n",
    "    "
   ]
  },
  {
   "cell_type": "markdown",
   "metadata": {},
   "source": [
    "# convert into bag of words after clean text"
   ]
  },
  {
   "cell_type": "code",
   "execution_count": 134,
   "metadata": {},
   "outputs": [],
   "source": [
    "# Creating the Bag of Words model\n",
    "from sklearn.feature_extraction.text import CountVectorizer # its liberary for convert text into array\n",
    "cv = CountVectorizer(max_features = 1500) # here create object of this liberary and initlize\n",
    "X = cv.fit_transform(corpus).toarray()\n",
    "\n"
   ]
  },
  {
   "cell_type": "markdown",
   "metadata": {},
   "source": [
    "# after convert text into numberic  you can perform any ML algorithm on it."
   ]
  },
  {
   "cell_type": "code",
   "execution_count": null,
   "metadata": {},
   "outputs": [],
   "source": []
  },
  {
   "cell_type": "code",
   "execution_count": null,
   "metadata": {},
   "outputs": [],
   "source": []
  },
  {
   "cell_type": "code",
   "execution_count": null,
   "metadata": {},
   "outputs": [],
   "source": []
  }
 ],
 "metadata": {
  "kernelspec": {
   "display_name": "Python 3",
   "language": "python",
   "name": "python3"
  },
  "language_info": {
   "codemirror_mode": {
    "name": "ipython",
    "version": 3
   },
   "file_extension": ".py",
   "mimetype": "text/x-python",
   "name": "python",
   "nbconvert_exporter": "python",
   "pygments_lexer": "ipython3",
   "version": "3.7.3"
  }
 },
 "nbformat": 4,
 "nbformat_minor": 2
}
